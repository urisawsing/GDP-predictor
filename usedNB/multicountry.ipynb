{
 "cells": [
  {
   "cell_type": "code",
   "execution_count": 2,
   "metadata": {},
   "outputs": [],
   "source": [
    "import numpy as np\n",
    "import pandas as pd\n",
    "import sys\n",
    "sys.path.append(\"..\")"
   ]
  },
  {
   "cell_type": "code",
   "execution_count": 3,
   "metadata": {},
   "outputs": [
    {
     "ename": "ImportError",
     "evalue": "cannot import name 'fjfjfj' from 'utils' (..\\utils\\__init__.py)",
     "output_type": "error",
     "traceback": [
      "\u001b[1;31m---------------------------------------------------------------------------\u001b[0m",
      "\u001b[1;31mImportError\u001b[0m                               Traceback (most recent call last)",
      "\u001b[1;32m<ipython-input-3-57203b222512>\u001b[0m in \u001b[0;36m<module>\u001b[1;34m\u001b[0m\n\u001b[0;32m      1\u001b[0m \u001b[1;32mimport\u001b[0m \u001b[0manalysis\u001b[0m \u001b[1;32mas\u001b[0m \u001b[0man\u001b[0m\u001b[1;33m\u001b[0m\u001b[1;33m\u001b[0m\u001b[0m\n\u001b[0;32m      2\u001b[0m \u001b[1;32mfrom\u001b[0m \u001b[0mutils\u001b[0m \u001b[1;32mimport\u001b[0m \u001b[0mconfig\u001b[0m\u001b[1;33m,\u001b[0m \u001b[0mio\u001b[0m\u001b[1;33m,\u001b[0m \u001b[0mmodels\u001b[0m\u001b[1;33m\u001b[0m\u001b[1;33m\u001b[0m\u001b[0m\n\u001b[1;32m----> 3\u001b[1;33m \u001b[1;32mfrom\u001b[0m \u001b[0mutils\u001b[0m \u001b[1;32mimport\u001b[0m \u001b[0mfjfjfj\u001b[0m\u001b[1;33m\u001b[0m\u001b[1;33m\u001b[0m\u001b[0m\n\u001b[0m\u001b[0;32m      4\u001b[0m \u001b[1;32mfrom\u001b[0m \u001b[0manalysis\u001b[0m \u001b[1;32mimport\u001b[0m \u001b[0mselector\u001b[0m \u001b[1;32mas\u001b[0m \u001b[0mse\u001b[0m\u001b[1;33m\u001b[0m\u001b[1;33m\u001b[0m\u001b[0m\n",
      "\u001b[1;31mImportError\u001b[0m: cannot import name 'fjfjfj' from 'utils' (..\\utils\\__init__.py)"
     ]
    }
   ],
   "source": [
    "import analysis as an\n",
    "from utils import config, io, models\n",
    "from utils import fjfjfj\n",
    "from analysis import selector as se"
   ]
  },
  {
   "cell_type": "code",
   "execution_count": 2,
   "metadata": {},
   "outputs": [],
   "source": [
    "from matplotlib import pyplot as plt\n",
    "from sklearn.model_selection import train_test_split\n",
    "from sklearn.linear_model import LinearRegression\n",
    "from sklearn.ensemble import GradientBoostingRegressor\n",
    "from sklearn.metrics import r2_score, mean_squared_error"
   ]
  },
  {
   "cell_type": "markdown",
   "metadata": {},
   "source": [
    "this will be in the select code, data adapting for the multicountry analysis"
   ]
  },
  {
   "cell_type": "code",
   "execution_count": 3,
   "metadata": {},
   "outputs": [],
   "source": [
    "from analysis import reader as re"
   ]
  },
  {
   "cell_type": "code",
   "execution_count": 4,
   "metadata": {},
   "outputs": [],
   "source": [
    "from analysis import selectorall as sall"
   ]
  },
  {
   "cell_type": "code",
   "execution_count": 5,
   "metadata": {},
   "outputs": [],
   "source": [
    "from analysis import countrylist as clist"
   ]
  },
  {
   "cell_type": "code",
   "execution_count": 6,
   "metadata": {},
   "outputs": [],
   "source": [
    "ncorr=50"
   ]
  },
  {
   "cell_type": "code",
   "execution_count": 7,
   "metadata": {},
   "outputs": [],
   "source": [
    "indicators=sall.selection(ncorr)"
   ]
  },
  {
   "cell_type": "code",
   "execution_count": 8,
   "metadata": {},
   "outputs": [
    {
     "data": {
      "text/plain": [
       "IndicatorCode\n",
       "SI.SPR.PCAP.ZG              1.000000\n",
       "NextYearGDP                 1.000000\n",
       "SI.SPR.PC40.ZG              1.000000\n",
       "SI.SPR.PC40.05              0.720355\n",
       "SI.SPR.PCAP.05              0.714283\n",
       "LP.LPI.LOGS.XQ              0.403281\n",
       "LP.LPI.TRAC.XQ              0.402993\n",
       "LP.LPI.CUST.XQ              0.392186\n",
       "LP.LPI.INFR.XQ              0.387387\n",
       "LP.LPI.OVRL.XQ              0.384166\n",
       "per_allsp.ben_q1_tot        0.363735\n",
       "FB.POS.TOTL.P5              0.347135\n",
       "per_si_allsi.ben_q1_tot     0.339280\n",
       "NY.GNP.MKTP.KD.ZG           0.332176\n",
       "LP.LPI.ITRN.XQ              0.318228\n",
       "LP.LPI.TIME.XQ              0.315624\n",
       "CM.MKT.INDX.ZG              0.314947\n",
       "NY.GDP.MKTP.KD.ZG           0.313394\n",
       "SL.TLF.0714.WK.FE.TM        0.313309\n",
       "SL.TLF.0714.WK.MA.ZS        0.307164\n",
       "SL.TLF.0714.SW.MA.ZS        0.307164\n",
       "NY.GNP.PCAP.KD.ZG           0.304058\n",
       "SI.SPR.PC40                 0.290013\n",
       "SL.TLF.0714.SW.FE.ZS        0.288936\n",
       "SL.TLF.0714.WK.FE.ZS        0.288936\n",
       "IC.FRM.FEMM.ZS              0.288655\n",
       "NY.GDP.PCAP.KD.ZG           0.288329\n",
       "FB.ATM.TOTL.P5              0.284979\n",
       "SI.SPR.PCAP                 0.281131\n",
       "IT.NET.BBND.P2              0.280120\n",
       "IC.FRM.BNKS.ZS              0.279406\n",
       "SL.TLF.0714.WK.TM           0.279321\n",
       "IC.EXP.DOCS                 0.277878\n",
       "SL.TLF.0714.WK.MA.TM        0.275697\n",
       "NE.GDI.FPRV.ZS              0.271920\n",
       "SH.PRV.SMOK.FE              0.269334\n",
       "FM.LBL.BMNY.ZG              0.268451\n",
       "FM.LBL.MQMY.ZG              0.268451\n",
       "per_si_allsi.cov_pop_tot    0.266202\n",
       "IC.IMP.DOCS                 0.265717\n",
       "IC.IMP.DURS                 0.261422\n",
       "NV.IND.TOTL.KD.ZG           0.253980\n",
       "IC.EXP.DURS                 0.253569\n",
       "IC.TAX.GIFT.ZS              0.251366\n",
       "IQ.CPA.FISP.XQ              0.248794\n",
       "IQ.WEF.PORT.XQ              0.244185\n",
       "NE.IMP.GNFS.KD.ZG           0.243592\n",
       "FS.AST.DOMS.GD.ZS           0.243008\n",
       "NE.CON.PRVT.KD.ZG           0.241823\n",
       "SH.MED.BEDS.ZS              0.238051\n",
       "Name: NextYearGDP, dtype: float64"
      ]
     },
     "execution_count": 8,
     "metadata": {},
     "output_type": "execute_result"
    }
   ],
   "source": [
    "indicators"
   ]
  },
  {
   "cell_type": "code",
   "execution_count": 27,
   "metadata": {},
   "outputs": [],
   "source": [
    "predictors,pre2010=sall.indicators(ncorr)\n",
    "indicators=pd.DataFrame(indicators)\n",
    "indexs=indicators.index.values.tolist()\n",
    "predictors=np.nan_to_num(predictors)"
   ]
  },
  {
   "cell_type": "markdown",
   "metadata": {},
   "source": [
    "Todo esto de arriba llama a funciones selectall para obtener la información del dataset"
   ]
  },
  {
   "cell_type": "code",
   "execution_count": 12,
   "metadata": {},
   "outputs": [
    {
     "data": {
      "text/plain": [
       "array([[        nan,         nan,         nan, ...,         nan,\n",
       "                nan,         nan],\n",
       "       [        nan,         nan,         nan, ...,         nan,\n",
       "                nan,         nan],\n",
       "       [        nan,         nan,         nan, ...,         nan,\n",
       "                nan,         nan],\n",
       "       ...,\n",
       "       [        nan,  5.98439075,         nan, ...,         nan,\n",
       "        -3.13756141,         nan],\n",
       "       [        nan, 11.37592123,         nan, ...,         nan,\n",
       "        31.87712627,         nan],\n",
       "       [        nan,         nan,         nan, ...,         nan,\n",
       "        -0.09645039,         nan]])"
      ]
     },
     "execution_count": 12,
     "metadata": {},
     "output_type": "execute_result"
    }
   ],
   "source": [
    "predictors"
   ]
  },
  {
   "cell_type": "code",
   "execution_count": 31,
   "metadata": {},
   "outputs": [],
   "source": [
    "pre2010=pre2010.fillna(0)\n",
    "npre2010=pre2010[indexs].to_numpy()"
   ]
  },
  {
   "cell_type": "code",
   "execution_count": 18,
   "metadata": {},
   "outputs": [],
   "source": [
    "x=predictors[:,:-1]\n",
    "y=predictors[:,-1]"
   ]
  },
  {
   "cell_type": "markdown",
   "metadata": {},
   "source": [
    "x son todos los elementos de predictors menos la ultima columna, la ultima es y que es justamente GDPgrowth para el siguiente año"
   ]
  },
  {
   "cell_type": "code",
   "execution_count": 19,
   "metadata": {},
   "outputs": [],
   "source": [
    "import time"
   ]
  },
  {
   "cell_type": "code",
   "execution_count": 20,
   "metadata": {},
   "outputs": [
    {
     "name": "stdout",
     "output_type": "stream",
     "text": [
      "Elapsed time training: 12.051164150238037 seconds\n",
      "Elapsed time predicting: 0.024987459182739258 seconds\n"
     ]
    }
   ],
   "source": [
    "X_train, X_test, y_train, y_test = train_test_split(x, y, test_size=0.3, random_state=1)\n",
    "\n",
    "gbm_hyperparams = {\n",
    "    'n_estimators': 100,\n",
    "    'max_depth': 10,\n",
    "    'learning_rate': 0.1,\n",
    "    'loss': 'ls'\n",
    "}\n",
    "gbm_model = GradientBoostingRegressor(**gbm_hyperparams)\n",
    "t0 = time.time()\n",
    "gbm_model.fit(X_train, y_train)\n",
    "print(f\"Elapsed time training: {time.time() - t0} seconds\")\n",
    "t0 = time.time()\n",
    "gbm_y_pred = gbm_model.predict(X_test)\n",
    "print(f\"Elapsed time predicting: {time.time() - t0} seconds\")\n"
   ]
  },
  {
   "cell_type": "code",
   "execution_count": 21,
   "metadata": {},
   "outputs": [
    {
     "name": "stdout",
     "output_type": "stream",
     "text": [
      "RMSE: 2.591756771124922\n",
      "R^2: 0.11997901534685262\n"
     ]
    },
    {
     "ename": "IndexError",
     "evalue": "only integers, slices (`:`), ellipsis (`...`), numpy.newaxis (`None`) and integer or boolean arrays are valid indices",
     "output_type": "error",
     "traceback": [
      "\u001b[1;31m---------------------------------------------------------------------------\u001b[0m",
      "\u001b[1;31mIndexError\u001b[0m                                Traceback (most recent call last)",
      "\u001b[1;32m<ipython-input-21-8cd6efeb5532>\u001b[0m in \u001b[0;36m<module>\u001b[1;34m\u001b[0m\n\u001b[0;32m      3\u001b[0m \u001b[1;33m\u001b[0m\u001b[0m\n\u001b[0;32m      4\u001b[0m \u001b[0mresults_df\u001b[0m \u001b[1;33m=\u001b[0m \u001b[0mX_test\u001b[0m\u001b[1;33m.\u001b[0m\u001b[0mcopy\u001b[0m\u001b[1;33m(\u001b[0m\u001b[1;33m)\u001b[0m\u001b[1;33m\u001b[0m\u001b[1;33m\u001b[0m\u001b[0m\n\u001b[1;32m----> 5\u001b[1;33m \u001b[0mresults_df\u001b[0m\u001b[1;33m[\u001b[0m\u001b[1;34m\"y_real\"\u001b[0m\u001b[1;33m]\u001b[0m \u001b[1;33m=\u001b[0m \u001b[0my_test\u001b[0m\u001b[1;33m\u001b[0m\u001b[1;33m\u001b[0m\u001b[0m\n\u001b[0m\u001b[0;32m      6\u001b[0m \u001b[0mresults_df\u001b[0m\u001b[1;33m[\u001b[0m\u001b[1;34m\"y_pred\"\u001b[0m\u001b[1;33m]\u001b[0m \u001b[1;33m=\u001b[0m \u001b[0mgbm_y_pred\u001b[0m\u001b[1;33m.\u001b[0m\u001b[0mastype\u001b[0m\u001b[1;33m(\u001b[0m\u001b[0mfloat\u001b[0m\u001b[1;33m)\u001b[0m\u001b[1;33m\u001b[0m\u001b[1;33m\u001b[0m\u001b[0m\n\u001b[0;32m      7\u001b[0m \u001b[0mresults_df\u001b[0m\u001b[1;33m[\u001b[0m\u001b[1;34m\"err\"\u001b[0m\u001b[1;33m]\u001b[0m \u001b[1;33m=\u001b[0m \u001b[0mresults_df\u001b[0m\u001b[1;33m[\u001b[0m\u001b[1;34m\"y_real\"\u001b[0m\u001b[1;33m]\u001b[0m \u001b[1;33m-\u001b[0m \u001b[0mresults_df\u001b[0m\u001b[1;33m[\u001b[0m\u001b[1;34m\"y_pred\"\u001b[0m\u001b[1;33m]\u001b[0m\u001b[1;33m\u001b[0m\u001b[1;33m\u001b[0m\u001b[0m\n",
      "\u001b[1;31mIndexError\u001b[0m: only integers, slices (`:`), ellipsis (`...`), numpy.newaxis (`None`) and integer or boolean arrays are valid indices"
     ]
    }
   ],
   "source": [
    "print(f\"RMSE: {mean_squared_error(y_test, gbm_y_pred)**0.5}\")\n",
    "print(f\"R^2: {r2_score(y_test, gbm_y_pred)}\")\n",
    "\n",
    "results_df = X_test.copy()\n",
    "results_df[\"y_real\"] = y_test\n",
    "results_df[\"y_pred\"] = gbm_y_pred.astype(float)\n",
    "results_df[\"err\"] = results_df[\"y_real\"] - results_df[\"y_pred\"]\n",
    "results_df[\"%_err\"] = results_df[\"err\"] / results_df[\"y_real\"] * 100\n",
    "results_df"
   ]
  },
  {
   "cell_type": "code",
   "execution_count": 29,
   "metadata": {},
   "outputs": [],
   "source": [
    "prediction=gbm_model.predict(npre2010[:,:-1]).astype(float)"
   ]
  },
  {
   "cell_type": "code",
   "execution_count": 30,
   "metadata": {},
   "outputs": [
    {
     "data": {
      "text/plain": [
       "array([ 7.04967486e-01,  1.04396446e-01,  3.75299474e-01,  5.04698874e-01,\n",
       "        3.08258095e+00,  2.91541012e-01,  7.34735400e-02,  5.50026365e+00,\n",
       "        3.52409121e+00,  7.04967486e-01,  2.03690917e+00,  3.64784328e+00,\n",
       "        2.82079638e+00,  2.61761311e-01, -8.04885226e-02,  6.14455835e+00,\n",
       "        2.20424603e-01,  2.89438213e-01,  2.79776843e-01,  6.56195503e+00,\n",
       "        2.00664620e+00,  2.78647361e+00,  3.45708198e+00,  1.84781910e-01,\n",
       "        5.77113672e-01, -5.48396456e-03,  1.79333713e-01,  2.75766768e+00,\n",
       "        6.54617880e+00,  3.71496314e-01,  6.71612208e-02,  1.74048721e+00,\n",
       "        3.70843061e-01,  2.45365299e+00,  6.36397218e+00,  4.86973959e+00,\n",
       "        7.04967486e-01,  4.56402261e+00,  1.84877223e+00,  2.48468818e-02,\n",
       "        5.11850039e-01,  6.47030952e-02,  3.50795226e-01,  3.34540537e-01,\n",
       "        1.95440445e+00,  1.30276963e+00,  1.99574610e+00,  5.75956115e+00,\n",
       "        7.04967486e-01,  1.29750574e-01,  2.45345679e+00,  6.88812252e+00,\n",
       "        3.23540819e+00,  1.05566409e+00,  4.76131356e-01,  3.54623740e+00,\n",
       "        1.44771165e+00,  3.30147771e-01,  2.79249254e+00,  2.68824829e+00,\n",
       "        2.24424621e-01,  4.95881501e+00,  1.36440329e+00,  1.39170702e+00,\n",
       "        5.54261760e+00,  8.30524907e-02,  3.11246444e+00,  5.26072639e+00,\n",
       "        2.54051313e-01,  5.31357246e+00,  6.34734610e-02,  3.73904188e+00,\n",
       "        3.76407038e-01,  5.87621689e+00,  2.35379465e-01,  4.16360772e-01,\n",
       "        6.05952411e+00,  2.99496201e+00,  2.79458318e-01,  1.14439978e-01,\n",
       "        3.21601616e-02,  1.95301954e-01,  1.91867408e-01,  1.84172039e+00,\n",
       "        5.52701444e-02, -1.19173421e-02,  3.17189850e-01,  5.61669708e-01,\n",
       "        7.04967486e-01,  4.83179203e-01,  7.58610325e-01,  1.99777248e-01,\n",
       "        8.68668892e-01, -1.25163629e-02,  7.30713474e+00,  9.66990202e-01,\n",
       "        7.29403833e+00,  1.89668331e+00,  7.04967486e-01, -3.41310289e-02,\n",
       "        5.45304229e+00,  4.57769602e-01,  8.19310298e-01,  1.96968108e+00,\n",
       "        3.26753322e+00,  3.61828939e+00,  1.87082122e+00,  1.70551757e+00,\n",
       "        1.32959309e+01,  4.32464710e+00,  1.05366180e+00,  9.34666808e-03,\n",
       "        8.73243435e-01,  1.23333355e+00,  4.31543636e+00,  1.06893588e-01,\n",
       "        1.06000793e+00,  7.40675021e+00,  1.84140847e+00,  6.63767048e-01,\n",
       "        8.10869545e+00,  5.76360362e-01,  1.69613382e-01,  8.75377972e-01,\n",
       "        1.80936711e+00,  2.11374302e-01,  9.25674815e-02,  7.04967486e-01,\n",
       "       -4.53469869e-02,  2.22290789e-02,  8.45145265e-01,  4.92602923e-01,\n",
       "        6.63047559e+00,  5.25354467e+00,  5.30160362e+00, -3.84096785e-02,\n",
       "        7.04967486e-01,  3.26582201e-01,  2.44871898e-01,  1.99640701e-01,\n",
       "        3.18908380e-01,  5.39447497e-01,  8.51079691e-01,  1.70553769e+00,\n",
       "        1.58019181e+00,  6.55171712e-01,  4.49711616e+00, -2.18376491e-02,\n",
       "        4.47106858e+00,  2.75768332e-01,  1.24133111e+00,  3.84532459e+00,\n",
       "        5.19823577e+00,  7.04967486e-01,  1.55508280e-02, -3.80896666e-02,\n",
       "        3.85094282e-01, -5.21622966e-02,  1.76241554e+00,  2.93627745e+00,\n",
       "        2.02157276e+00,  2.66146412e-01, -9.89642484e-02,  1.62776333e-02,\n",
       "        7.84624779e-01,  2.30094888e-01,  1.62946718e+00,  3.22447333e+00,\n",
       "        1.34395073e-01,  1.05305174e+00,  1.90908790e+00,  3.68555533e+00,\n",
       "        2.31602379e+00, -2.55404023e-01,  6.26484747e-01,  2.25360136e+00,\n",
       "        1.51828244e+00,  7.06850635e-02,  2.03856068e+00,  3.22582044e-01,\n",
       "        6.46987686e+00,  7.94397333e-01,  7.04967486e-01,  3.30078476e+00,\n",
       "        1.17823096e+00,  3.25486175e-01,  3.90081588e-01,  1.94308097e+00,\n",
       "        1.06132595e+01,  8.81362748e+00,  3.11943779e-02,  6.81587449e-02,\n",
       "        1.86509191e-01, -8.77192327e-03, -3.55917941e-02, -1.67467712e-02,\n",
       "        4.19513937e-01, -1.42664952e-01,  2.12204578e+00,  2.08884439e-01,\n",
       "        7.04967486e-01,  1.14824497e-01, -7.31785593e-02, -6.50066991e-02,\n",
       "        1.36504180e-01,  1.16249373e-01,  1.40199127e-02,  2.50114170e+00,\n",
       "        6.31716481e+00,  4.51363238e+00,  2.73628873e+00,  7.10799461e-02,\n",
       "        7.04967486e-01,  8.35276407e-02,  9.67706991e-01,  7.04967486e-01,\n",
       "        9.97495061e-01, -8.91025505e-02,  2.09161069e+00,  1.83545394e+00,\n",
       "        4.83858175e-01,  4.78883842e-01,  1.91078006e+00,  2.16248469e+00,\n",
       "        1.06540029e+00,  2.36586814e+00,  5.46523856e-01,  4.65501931e-01,\n",
       "        3.71747954e-01,  2.68829012e-01,  2.83075559e+00,  1.15971308e+00,\n",
       "        2.91199316e+00,  4.08677647e+00,  2.20329749e+00,  2.09831931e-01,\n",
       "        7.04967486e-01,  1.65168468e+00, -5.75564974e-02, -1.77793805e-02,\n",
       "        1.22023229e+00,  1.50944609e+00,  5.93186993e-01, -5.75762060e-03,\n",
       "        3.94234506e-02,  1.94745720e+00, -1.32650400e-02])"
      ]
     },
     "execution_count": 30,
     "metadata": {},
     "output_type": "execute_result"
    }
   ],
   "source": [
    "prediction"
   ]
  }
 ],
 "metadata": {
  "kernelspec": {
   "display_name": "Python 3",
   "language": "python",
   "name": "python3"
  },
  "language_info": {
   "codemirror_mode": {
    "name": "ipython",
    "version": 3
   },
   "file_extension": ".py",
   "mimetype": "text/x-python",
   "name": "python",
   "nbconvert_exporter": "python",
   "pygments_lexer": "ipython3",
   "version": "3.8.6"
  }
 },
 "nbformat": 4,
 "nbformat_minor": 4
}
