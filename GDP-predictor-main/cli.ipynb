{
 "cells": [
  {
   "cell_type": "code",
   "execution_count": 9,
   "metadata": {},
   "outputs": [],
   "source": [
    "from utils import config, io, models, __init__\n",
    "from models import model_countries_together as mct\n",
    "import pandas as pd\n",
    "import numpy as np\n",
    "import logging\n",
    "import argparse\n",
    "import time\n",
    "\n",
    "from sklearn.model_selection import train_test_split\n",
    "from sklearn.linear_model import LinearRegression\n",
    "from sklearn.ensemble import GradientBoostingRegressor\n",
    "from sklearn.metrics import r2_score, mean_squared_error"
   ]
  },
  {
   "cell_type": "code",
   "execution_count": 10,
   "metadata": {},
   "outputs": [],
   "source": [
    "ncorr = config.NUM_PREDICTORS"
   ]
  },
  {
   "cell_type": "code",
   "execution_count": 11,
   "metadata": {},
   "outputs": [
    {
     "data": {
      "text/plain": [
       "50"
      ]
     },
     "execution_count": 11,
     "metadata": {},
     "output_type": "execute_result"
    }
   ],
   "source": [
    "ncorr"
   ]
  },
  {
   "cell_type": "code",
   "execution_count": 12,
   "metadata": {},
   "outputs": [],
   "source": [
    "indicators=io.selection(ncorr)"
   ]
  },
  {
   "cell_type": "code",
   "execution_count": 5,
   "metadata": {},
   "outputs": [
    {
     "data": {
      "text/plain": [
       "IndicatorCode\n",
       "SI.SPR.PCAP.ZG              1.000000\n",
       "NextYearGDP                 1.000000\n",
       "SI.SPR.PC40.ZG              1.000000\n",
       "SI.SPR.PC40.05              0.720355\n",
       "SI.SPR.PCAP.05              0.714283\n",
       "LP.LPI.LOGS.XQ              0.403281\n",
       "LP.LPI.TRAC.XQ              0.402993\n",
       "LP.LPI.CUST.XQ              0.392186\n",
       "LP.LPI.INFR.XQ              0.387387\n",
       "LP.LPI.OVRL.XQ              0.384166\n",
       "per_allsp.ben_q1_tot        0.363735\n",
       "FB.POS.TOTL.P5              0.347135\n",
       "per_si_allsi.ben_q1_tot     0.339280\n",
       "NY.GNP.MKTP.KD.ZG           0.332176\n",
       "LP.LPI.ITRN.XQ              0.318228\n",
       "LP.LPI.TIME.XQ              0.315624\n",
       "CM.MKT.INDX.ZG              0.314947\n",
       "NY.GDP.MKTP.KD.ZG           0.313394\n",
       "SL.TLF.0714.WK.FE.TM        0.313309\n",
       "SL.TLF.0714.WK.MA.ZS        0.307164\n",
       "SL.TLF.0714.SW.MA.ZS        0.307164\n",
       "NY.GNP.PCAP.KD.ZG           0.304058\n",
       "SI.SPR.PC40                 0.290013\n",
       "SL.TLF.0714.SW.FE.ZS        0.288936\n",
       "SL.TLF.0714.WK.FE.ZS        0.288936\n",
       "IC.FRM.FEMM.ZS              0.288655\n",
       "NY.GDP.PCAP.KD.ZG           0.288329\n",
       "FB.ATM.TOTL.P5              0.284979\n",
       "SI.SPR.PCAP                 0.281131\n",
       "IT.NET.BBND.P2              0.280120\n",
       "IC.FRM.BNKS.ZS              0.279406\n",
       "SL.TLF.0714.WK.TM           0.279321\n",
       "IC.EXP.DOCS                 0.277878\n",
       "SL.TLF.0714.WK.MA.TM        0.275697\n",
       "NE.GDI.FPRV.ZS              0.271920\n",
       "SH.PRV.SMOK.FE              0.269334\n",
       "FM.LBL.BMNY.ZG              0.268451\n",
       "FM.LBL.MQMY.ZG              0.268451\n",
       "per_si_allsi.cov_pop_tot    0.266202\n",
       "IC.IMP.DOCS                 0.265717\n",
       "IC.IMP.DURS                 0.261422\n",
       "NV.IND.TOTL.KD.ZG           0.253980\n",
       "IC.EXP.DURS                 0.253569\n",
       "IC.TAX.GIFT.ZS              0.251366\n",
       "IQ.CPA.FISP.XQ              0.248794\n",
       "IQ.WEF.PORT.XQ              0.244185\n",
       "NE.IMP.GNFS.KD.ZG           0.243592\n",
       "FS.AST.DOMS.GD.ZS           0.243008\n",
       "NE.CON.PRVT.KD.ZG           0.241823\n",
       "SH.MED.BEDS.ZS              0.238051\n",
       "Name: NextYearGDP, dtype: float64"
      ]
     },
     "execution_count": 5,
     "metadata": {},
     "output_type": "execute_result"
    }
   ],
   "source": [
    "indicators"
   ]
  },
  {
   "cell_type": "code",
   "execution_count": 13,
   "metadata": {},
   "outputs": [],
   "source": [
    "predictors,pre2010=io.indicators(ncorr)\n",
    "indicators=pd.DataFrame(indicators)\n",
    "indexs=indicators.index.values.tolist()\n",
    "predictors=np.nan_to_num(predictors)"
   ]
  },
  {
   "cell_type": "code",
   "execution_count": 7,
   "metadata": {},
   "outputs": [],
   "source": [
    "pre2010=pre2010.fillna(0)\n",
    "npre2010=pre2010[indexs].to_numpy()"
   ]
  },
  {
   "cell_type": "code",
   "execution_count": 8,
   "metadata": {},
   "outputs": [],
   "source": [
    "parser = argparse.ArgumentParser()"
   ]
  },
  {
   "cell_type": "code",
   "execution_count": 9,
   "metadata": {},
   "outputs": [
    {
     "data": {
      "text/plain": [
       "_StoreAction(option_strings=[], dest='task', nargs=None, const=None, default=None, type=None, choices=['train', 'predict'], help='Task to be performed', metavar=None)"
      ]
     },
     "execution_count": 9,
     "metadata": {},
     "output_type": "execute_result"
    }
   ],
   "source": [
    "parser.add_argument(\n",
    "    \"task\",\n",
    "    choices=[\"train\", \"predict\"],\n",
    "    help=\"Task to be performed\",\n",
    ")"
   ]
  },
  {
   "cell_type": "code",
   "execution_count": 10,
   "metadata": {},
   "outputs": [
    {
     "name": "stdout",
     "output_type": "stream",
     "text": [
      "running gradient boosting for all countries\n"
     ]
    }
   ],
   "source": [
    "print(\"running gradient boosting for all countries\")"
   ]
  },
  {
   "cell_type": "code",
   "execution_count": 27,
   "metadata": {},
   "outputs": [],
   "source": [
    "x,y,npre2010=mct.declaration()"
   ]
  },
  {
   "cell_type": "code",
   "execution_count": 8,
   "metadata": {},
   "outputs": [
    {
     "ename": "NameError",
     "evalue": "name 'x' is not defined",
     "output_type": "error",
     "traceback": [
      "\u001b[1;31m---------------------------------------------------------------------------\u001b[0m",
      "\u001b[1;31mNameError\u001b[0m                                 Traceback (most recent call last)",
      "\u001b[1;32m<ipython-input-8-d77761a02203>\u001b[0m in \u001b[0;36m<module>\u001b[1;34m\u001b[0m\n\u001b[1;32m----> 1\u001b[1;33m \u001b[0mX_train\u001b[0m\u001b[1;33m,\u001b[0m \u001b[0mX_test\u001b[0m\u001b[1;33m,\u001b[0m \u001b[0my_train\u001b[0m\u001b[1;33m,\u001b[0m \u001b[0my_test\u001b[0m \u001b[1;33m=\u001b[0m \u001b[0mtrain_test_split\u001b[0m\u001b[1;33m(\u001b[0m\u001b[0mx\u001b[0m\u001b[1;33m,\u001b[0m \u001b[0my\u001b[0m\u001b[1;33m,\u001b[0m \u001b[0mtest_size\u001b[0m\u001b[1;33m=\u001b[0m\u001b[1;36m0.3\u001b[0m\u001b[1;33m,\u001b[0m \u001b[0mrandom_state\u001b[0m\u001b[1;33m=\u001b[0m\u001b[1;36m1\u001b[0m\u001b[1;33m)\u001b[0m\u001b[1;33m\u001b[0m\u001b[1;33m\u001b[0m\u001b[0m\n\u001b[0m\u001b[0;32m      2\u001b[0m gbm_hyperparams = {\n\u001b[0;32m      3\u001b[0m     \u001b[1;34m'n_estimators'\u001b[0m\u001b[1;33m:\u001b[0m \u001b[1;36m50\u001b[0m\u001b[1;33m,\u001b[0m\u001b[1;33m\u001b[0m\u001b[1;33m\u001b[0m\u001b[0m\n\u001b[0;32m      4\u001b[0m     \u001b[1;34m'max_depth'\u001b[0m\u001b[1;33m:\u001b[0m \u001b[1;36m10\u001b[0m\u001b[1;33m,\u001b[0m\u001b[1;33m\u001b[0m\u001b[1;33m\u001b[0m\u001b[0m\n\u001b[0;32m      5\u001b[0m     \u001b[1;34m'learning_rate'\u001b[0m\u001b[1;33m:\u001b[0m \u001b[1;36m0.1\u001b[0m\u001b[1;33m,\u001b[0m\u001b[1;33m\u001b[0m\u001b[1;33m\u001b[0m\u001b[0m\n",
      "\u001b[1;31mNameError\u001b[0m: name 'x' is not defined"
     ]
    }
   ],
   "source": [
    "X_train, X_test, y_train, y_test = train_test_split(x, y, test_size=0.3, random_state=1)\n",
    "gbm_hyperparams = {\n",
    "    'n_estimators': 30,\n",
    "    'max_depth': 10,\n",
    "    'learning_rate': 0.1,\n",
    "    'loss': 'ls'\n",
    "}"
   ]
  },
  {
   "cell_type": "code",
   "execution_count": 15,
   "metadata": {},
   "outputs": [],
   "source": [
    "gbm_model = GradientBoostingRegressor(**gbm_hyperparams)"
   ]
  },
  {
   "cell_type": "code",
   "execution_count": 16,
   "metadata": {},
   "outputs": [],
   "source": [
    "t0 = time.time()"
   ]
  },
  {
   "cell_type": "code",
   "execution_count": 17,
   "metadata": {},
   "outputs": [
    {
     "data": {
      "text/plain": [
       "GradientBoostingRegressor(max_depth=10)"
      ]
     },
     "execution_count": 17,
     "metadata": {},
     "output_type": "execute_result"
    }
   ],
   "source": [
    "gbm_model.fit(X_train, y_train)"
   ]
  },
  {
   "cell_type": "code",
   "execution_count": 18,
   "metadata": {},
   "outputs": [
    {
     "name": "stdout",
     "output_type": "stream",
     "text": [
      "Elapsed time training: 14.283383131027222 seconds\n"
     ]
    }
   ],
   "source": [
    "print(f\"Elapsed time training: {time.time() - t0} seconds\")"
   ]
  },
  {
   "cell_type": "markdown",
   "metadata": {},
   "source": [
    "Hasta aqui train"
   ]
  },
  {
   "cell_type": "code",
   "execution_count": 19,
   "metadata": {},
   "outputs": [
    {
     "name": "stdout",
     "output_type": "stream",
     "text": [
      "Elapsed time predicting: 0.03390932083129883 seconds\n",
      "RMSE: 2.5945747659220904\n",
      "R^2: 0.11806429652154993\n"
     ]
    }
   ],
   "source": [
    "t0 = time.time()\n",
    "gbm_y_pred = gbm_model.predict(X_test)\n",
    "print(f\"Elapsed time predicting: {time.time() - t0} seconds\")\n",
    "print(f\"RMSE: {mean_squared_error(y_test, gbm_y_pred)**0.5}\")\n",
    "print(f\"R^2: {r2_score(y_test, gbm_y_pred)}\")"
   ]
  },
  {
   "cell_type": "code",
   "execution_count": 22,
   "metadata": {},
   "outputs": [],
   "source": [
    "prediction=gbm_model.predict(npre2010[:,:-1]).astype(float)"
   ]
  },
  {
   "cell_type": "code",
   "execution_count": 23,
   "metadata": {},
   "outputs": [
    {
     "data": {
      "text/plain": [
       "array([ 7.02295323e-01, -8.60743368e-02,  3.68248271e-01,  4.79314616e-01,\n",
       "        2.39788999e+00,  7.16743433e-02,  4.69706783e-04,  5.70814478e+00,\n",
       "        2.89547156e+00,  7.02295323e-01,  2.13027939e+00,  3.74724481e+00,\n",
       "        2.60532840e+00,  6.99560651e-02, -8.25614776e-02,  6.13832503e+00,\n",
       "        2.61434505e-01,  3.53816225e-01,  5.98214333e-01,  6.33674883e+00,\n",
       "        1.51192939e+00,  2.75015453e+00,  3.42392117e+00,  2.35254171e-01,\n",
       "        7.92595261e-01, -9.25845504e-02,  1.90035804e-01,  3.01338119e+00,\n",
       "        6.38861418e+00,  8.71361759e-01,  7.24173671e-02,  1.66781098e+00,\n",
       "        4.39816115e-01,  2.69660718e+00,  6.38692587e+00,  4.94338677e+00,\n",
       "        7.02295323e-01,  5.38956167e+00,  2.04085266e+00,  3.37833095e-02,\n",
       "        5.34691340e-01,  1.20699481e-01,  5.17693569e-01,  3.93960901e-01,\n",
       "        2.05269525e+00,  1.34662798e+00,  1.99490353e+00,  5.77276787e+00,\n",
       "        7.02295323e-01,  3.07486396e-01,  2.44178578e+00,  6.89525737e+00,\n",
       "        2.29213274e+00,  1.43812932e+00,  5.46199401e-01,  3.29911530e+00,\n",
       "        1.53074574e+00,  2.64000750e-01,  2.74258451e+00,  2.60025268e+00,\n",
       "        1.47229672e-01,  4.91768221e+00,  1.55722626e+00,  1.43388417e+00,\n",
       "        5.48936767e+00,  5.14208453e-02,  3.23812846e+00,  5.19326946e+00,\n",
       "        2.82780451e-01,  5.25791741e+00,  9.02665925e-02,  2.83020093e+00,\n",
       "        8.48075169e-01,  4.74731629e+00,  2.78150442e-01,  4.45586447e-01,\n",
       "        5.94682016e+00,  2.89129393e+00,  8.97425300e-03,  7.34064359e-01,\n",
       "       -8.16645288e-02, -3.26260598e-02, -3.88006324e-02,  1.22370924e+00,\n",
       "        6.73123744e-02,  2.73251836e-01,  3.90913463e-01,  6.29915108e-01,\n",
       "        7.02295323e-01,  5.34276710e-01,  5.61383741e-01,  1.36251801e-01,\n",
       "        8.85945988e-01,  3.48213232e-01,  8.30643038e+00,  3.34886340e-01,\n",
       "        7.11116858e+00,  2.16678866e+00,  7.02295323e-01,  4.20297619e-02,\n",
       "        5.92972027e+00,  4.05322493e-01,  5.45972504e-01,  2.50926316e+00,\n",
       "        3.55212331e+00,  3.55958761e+00,  1.82457257e+00,  1.71794812e+00,\n",
       "        1.17196371e+01,  3.25891228e+00,  1.25444277e+00,  2.49274712e-02,\n",
       "        8.45112453e-01,  1.33519079e+00,  4.06599030e+00,  2.52840126e-02,\n",
       "        7.96423604e-01,  5.97936270e+00,  1.81960819e+00,  6.76675567e-01,\n",
       "        7.94641952e+00,  4.10402358e-01,  5.16050756e-01,  1.54960702e+00,\n",
       "        2.20758205e+00,  2.25276566e-01, -6.04645941e-02,  7.02295323e-01,\n",
       "       -1.41832553e-01, -7.48702078e-02,  3.52528167e-01,  3.98322789e-01,\n",
       "        6.71735706e+00,  5.36005552e+00,  5.25517078e+00,  6.06295526e-02,\n",
       "        7.02295323e-01,  1.56999582e-01,  2.54450891e-01,  2.01894475e-01,\n",
       "        2.27604314e-01,  4.22023115e-01, -2.63906237e-03,  1.71069109e+00,\n",
       "        1.76581176e+00,  2.24498109e-03,  4.60363653e+00, -8.65122112e-02,\n",
       "        4.44563968e+00,  4.37846880e-01,  3.80322081e-01,  3.79086264e+00,\n",
       "        5.29166406e+00,  7.02295323e-01, -6.59389283e-02,  1.40031712e-01,\n",
       "        1.89300728e-01, -3.83002820e-02,  1.73224941e+00,  3.07574385e+00,\n",
       "        1.53608745e+00,  3.90913463e-01, -9.26532030e-02,  5.12394610e-02,\n",
       "        7.86051446e-01,  2.60358800e-01,  2.25906495e+00,  3.39058179e+00,\n",
       "        1.84779854e-01,  2.39678722e+00,  2.97549560e+00,  3.57438026e+00,\n",
       "        1.81053959e+00, -2.66289617e-01,  5.41833934e-01,  2.38614585e+00,\n",
       "        1.64546747e+00,  7.47412024e-02,  2.20879930e+00,  8.28535874e-02,\n",
       "        6.39463697e+00,  1.90562247e+00,  7.02295323e-01,  3.35060728e+00,\n",
       "        1.27071446e+00,  5.81830516e-01,  3.80645567e-01,  1.61196240e+00,\n",
       "        1.02086404e+01,  8.87011770e+00, -9.29811876e-02,  3.68654294e-02,\n",
       "        1.59462891e-01,  3.31746511e-02,  1.12121169e-01, -1.44682987e-02,\n",
       "        1.58595647e-01, -6.52004486e-02,  2.35964805e+00,  2.64564501e-01,\n",
       "        7.02295323e-01,  9.71072298e-02,  1.54144676e-02, -2.13683580e-01,\n",
       "        6.43916054e-02,  4.36111056e-02,  5.10194329e-03,  2.46226252e+00,\n",
       "        6.34199935e+00,  4.68425043e+00,  2.65959842e+00,  1.15750379e-01,\n",
       "        7.02295323e-01,  1.03835274e-01,  9.37176509e-01,  7.02295323e-01,\n",
       "        8.20539161e-01,  7.55880659e-02,  2.06527060e+00,  1.84457141e+00,\n",
       "        4.50818930e-01,  5.83270655e-01,  1.93701029e+00,  1.54411532e+00,\n",
       "        1.33556772e+00,  2.41182852e+00,  8.36187168e-01,  4.28254217e-01,\n",
       "        2.63631290e-01,  1.73293790e-01,  2.90006169e+00,  1.32188328e+00,\n",
       "        2.88062691e+00,  4.17815958e+00,  2.15646535e+00,  1.46509928e-01,\n",
       "        7.02295323e-01,  1.97118400e+00, -1.08658295e-01, -3.74634770e-02,\n",
       "        1.62438333e+00,  1.46607523e+00,  7.53188004e-01,  6.14304184e-02,\n",
       "       -1.27271560e-02,  1.99486893e+00,  3.15080337e-02])"
      ]
     },
     "execution_count": 23,
     "metadata": {},
     "output_type": "execute_result"
    }
   ],
   "source": [
    "prediction"
   ]
  },
  {
   "cell_type": "code",
   "execution_count": 24,
   "metadata": {},
   "outputs": [
    {
     "ename": "IndexError",
     "evalue": "only integers, slices (`:`), ellipsis (`...`), numpy.newaxis (`None`) and integer or boolean arrays are valid indices",
     "output_type": "error",
     "traceback": [
      "\u001b[1;31m---------------------------------------------------------------------------\u001b[0m",
      "\u001b[1;31mIndexError\u001b[0m                                Traceback (most recent call last)",
      "\u001b[1;32m<ipython-input-24-9c291c04c16b>\u001b[0m in \u001b[0;36m<module>\u001b[1;34m\u001b[0m\n\u001b[0;32m      1\u001b[0m \u001b[0mresults_df\u001b[0m \u001b[1;33m=\u001b[0m \u001b[0mX_test\u001b[0m\u001b[1;33m.\u001b[0m\u001b[0mcopy\u001b[0m\u001b[1;33m(\u001b[0m\u001b[1;33m)\u001b[0m\u001b[1;33m\u001b[0m\u001b[1;33m\u001b[0m\u001b[0m\n\u001b[1;32m----> 2\u001b[1;33m \u001b[0mresults_df\u001b[0m\u001b[1;33m[\u001b[0m\u001b[1;34m\"y_real\"\u001b[0m\u001b[1;33m]\u001b[0m \u001b[1;33m=\u001b[0m \u001b[0my_test\u001b[0m\u001b[1;33m\u001b[0m\u001b[1;33m\u001b[0m\u001b[0m\n\u001b[0m\u001b[0;32m      3\u001b[0m \u001b[0mresults_df\u001b[0m\u001b[1;33m[\u001b[0m\u001b[1;34m\"y_pred\"\u001b[0m\u001b[1;33m]\u001b[0m \u001b[1;33m=\u001b[0m \u001b[0mlinear_model\u001b[0m\u001b[1;33m.\u001b[0m\u001b[0mastype\u001b[0m\u001b[1;33m(\u001b[0m\u001b[0mfloat\u001b[0m\u001b[1;33m)\u001b[0m\u001b[1;33m\u001b[0m\u001b[1;33m\u001b[0m\u001b[0m\n\u001b[0;32m      4\u001b[0m \u001b[0mresults_df\u001b[0m\u001b[1;33m[\u001b[0m\u001b[1;34m\"err\"\u001b[0m\u001b[1;33m]\u001b[0m \u001b[1;33m=\u001b[0m \u001b[0mresults_df\u001b[0m\u001b[1;33m[\u001b[0m\u001b[1;34m\"y_real\"\u001b[0m\u001b[1;33m]\u001b[0m \u001b[1;33m-\u001b[0m \u001b[0mresults_df\u001b[0m\u001b[1;33m[\u001b[0m\u001b[1;34m\"y_pred\"\u001b[0m\u001b[1;33m]\u001b[0m\u001b[1;33m\u001b[0m\u001b[1;33m\u001b[0m\u001b[0m\n\u001b[0;32m      5\u001b[0m \u001b[0mresults_df\u001b[0m\u001b[1;33m[\u001b[0m\u001b[1;34m\"%_err\"\u001b[0m\u001b[1;33m]\u001b[0m \u001b[1;33m=\u001b[0m \u001b[0mresults_df\u001b[0m\u001b[1;33m[\u001b[0m\u001b[1;34m\"err\"\u001b[0m\u001b[1;33m]\u001b[0m \u001b[1;33m/\u001b[0m \u001b[0mresults_df\u001b[0m\u001b[1;33m[\u001b[0m\u001b[1;34m\"y_real\"\u001b[0m\u001b[1;33m]\u001b[0m \u001b[1;33m*\u001b[0m \u001b[1;36m100\u001b[0m\u001b[1;33m\u001b[0m\u001b[1;33m\u001b[0m\u001b[0m\n",
      "\u001b[1;31mIndexError\u001b[0m: only integers, slices (`:`), ellipsis (`...`), numpy.newaxis (`None`) and integer or boolean arrays are valid indices"
     ]
    }
   ],
   "source": [
    "results_df = X_test.copy()\n",
    "results_df[\"y_real\"] = y_test\n",
    "results_df[\"y_pred\"] = linear_model.astype(float)\n",
    "results_df[\"err\"] = results_df[\"y_real\"] - results_df[\"y_pred\"]\n",
    "results_df[\"%_err\"] = results_df[\"err\"] / results_df[\"y_real\"] * 100"
   ]
  },
  {
   "cell_type": "markdown",
   "metadata": {},
   "source": [
    "Vamos a ver si funcionan las funciones GB_train y GB_test por separado"
   ]
  },
  {
   "cell_type": "code",
   "execution_count": 4,
   "metadata": {},
   "outputs": [
    {
     "name": "stdout",
     "output_type": "stream",
     "text": [
      "running gradient boosting for all countries\n",
      "Elapsed time training: 7.423810958862305 seconds\n"
     ]
    }
   ],
   "source": [
    "mct.GBmodel_train()"
   ]
  },
  {
   "cell_type": "code",
   "execution_count": 7,
   "metadata": {},
   "outputs": [
    {
     "ename": "NameError",
     "evalue": "name 'gbm_model' is not defined",
     "output_type": "error",
     "traceback": [
      "\u001b[1;31m---------------------------------------------------------------------------\u001b[0m",
      "\u001b[1;31mNameError\u001b[0m                                 Traceback (most recent call last)",
      "\u001b[1;32m<ipython-input-7-15007f4b2193>\u001b[0m in \u001b[0;36m<module>\u001b[1;34m\u001b[0m\n\u001b[1;32m----> 1\u001b[1;33m \u001b[0mmct\u001b[0m\u001b[1;33m.\u001b[0m\u001b[0mGBmodel_test\u001b[0m\u001b[1;33m(\u001b[0m\u001b[1;33m)\u001b[0m\u001b[1;33m\u001b[0m\u001b[1;33m\u001b[0m\u001b[0m\n\u001b[0m",
      "\u001b[1;32m~\\Documents\\2020-21\\Research and Innovation\\Introduction to python\\Project\\GDP-predictor-main\\models\\model_countries_together.py\u001b[0m in \u001b[0;36mGBmodel_test\u001b[1;34m()\u001b[0m\n\u001b[0;32m     77\u001b[0m \u001b[1;33m\u001b[0m\u001b[0m\n\u001b[0;32m     78\u001b[0m \u001b[1;32mdef\u001b[0m \u001b[0mGBmodel_test\u001b[0m\u001b[1;33m(\u001b[0m\u001b[1;33m)\u001b[0m\u001b[1;33m:\u001b[0m\u001b[1;33m\u001b[0m\u001b[1;33m\u001b[0m\u001b[0m\n\u001b[1;32m---> 79\u001b[1;33m     \u001b[0mt0\u001b[0m \u001b[1;33m=\u001b[0m \u001b[0mtime\u001b[0m\u001b[1;33m.\u001b[0m\u001b[0mtime\u001b[0m\u001b[1;33m(\u001b[0m\u001b[1;33m)\u001b[0m\u001b[1;33m\u001b[0m\u001b[1;33m\u001b[0m\u001b[0m\n\u001b[0m\u001b[0;32m     80\u001b[0m     \u001b[0mgbm_y_pred\u001b[0m \u001b[1;33m=\u001b[0m \u001b[0mgbm_model\u001b[0m\u001b[1;33m.\u001b[0m\u001b[0mpredict\u001b[0m\u001b[1;33m(\u001b[0m\u001b[0mX_test\u001b[0m\u001b[1;33m)\u001b[0m\u001b[1;33m\u001b[0m\u001b[1;33m\u001b[0m\u001b[0m\n\u001b[0;32m     81\u001b[0m     \u001b[0mprint\u001b[0m\u001b[1;33m(\u001b[0m\u001b[1;34mf\"Elapsed time predicting: {time.time() - t0} seconds\"\u001b[0m\u001b[1;33m)\u001b[0m\u001b[1;33m\u001b[0m\u001b[1;33m\u001b[0m\u001b[0m\n",
      "\u001b[1;31mNameError\u001b[0m: name 'gbm_model' is not defined"
     ]
    }
   ],
   "source": [
    "mct.GBmodel_test()"
   ]
  },
  {
   "cell_type": "code",
   "execution_count": null,
   "metadata": {},
   "outputs": [],
   "source": []
  }
 ],
 "metadata": {
  "kernelspec": {
   "display_name": "Python 3",
   "language": "python",
   "name": "python3"
  },
  "language_info": {
   "codemirror_mode": {
    "name": "ipython",
    "version": 3
   },
   "file_extension": ".py",
   "mimetype": "text/x-python",
   "name": "python",
   "nbconvert_exporter": "python",
   "pygments_lexer": "ipython3",
   "version": "3.8.3"
  }
 },
 "nbformat": 4,
 "nbformat_minor": 4
}
