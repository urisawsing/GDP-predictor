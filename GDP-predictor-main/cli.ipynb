{
 "cells": [
  {
   "cell_type": "code",
   "execution_count": 33,
   "metadata": {},
   "outputs": [],
   "source": [
    "from utils import config, io, models, __init__\n",
    "from models import multicountry\n",
    "import time"
   ]
  },
  {
   "cell_type": "code",
   "execution_count": 34,
   "metadata": {},
   "outputs": [],
   "source": [
    "ncorr = config.NUM_PREDICTORS"
   ]
  },
  {
   "cell_type": "code",
   "execution_count": 35,
   "metadata": {},
   "outputs": [
    {
     "data": {
      "text/plain": [
       "50"
      ]
     },
     "execution_count": 35,
     "metadata": {},
     "output_type": "execute_result"
    }
   ],
   "source": [
    "ncorr"
   ]
  },
  {
   "cell_type": "code",
   "execution_count": 36,
   "metadata": {},
   "outputs": [],
   "source": [
    "indicators=io.selection(ncorr)"
   ]
  },
  {
   "cell_type": "code",
   "execution_count": 12,
   "metadata": {},
   "outputs": [
    {
     "data": {
      "text/plain": [
       "IndicatorCode\n",
       "SI.SPR.PCAP.ZG              1.000000\n",
       "NextYearGDP                 1.000000\n",
       "SI.SPR.PC40.ZG              1.000000\n",
       "SI.SPR.PC40.05              0.720355\n",
       "SI.SPR.PCAP.05              0.714283\n",
       "LP.LPI.LOGS.XQ              0.403281\n",
       "LP.LPI.TRAC.XQ              0.402993\n",
       "LP.LPI.CUST.XQ              0.392186\n",
       "LP.LPI.INFR.XQ              0.387387\n",
       "LP.LPI.OVRL.XQ              0.384166\n",
       "per_allsp.ben_q1_tot        0.363735\n",
       "FB.POS.TOTL.P5              0.347135\n",
       "per_si_allsi.ben_q1_tot     0.339280\n",
       "NY.GNP.MKTP.KD.ZG           0.332176\n",
       "LP.LPI.ITRN.XQ              0.318228\n",
       "LP.LPI.TIME.XQ              0.315624\n",
       "CM.MKT.INDX.ZG              0.314947\n",
       "NY.GDP.MKTP.KD.ZG           0.313394\n",
       "SL.TLF.0714.WK.FE.TM        0.313309\n",
       "SL.TLF.0714.WK.MA.ZS        0.307164\n",
       "SL.TLF.0714.SW.MA.ZS        0.307164\n",
       "NY.GNP.PCAP.KD.ZG           0.304058\n",
       "SI.SPR.PC40                 0.290013\n",
       "SL.TLF.0714.SW.FE.ZS        0.288936\n",
       "SL.TLF.0714.WK.FE.ZS        0.288936\n",
       "IC.FRM.FEMM.ZS              0.288655\n",
       "NY.GDP.PCAP.KD.ZG           0.288329\n",
       "FB.ATM.TOTL.P5              0.284979\n",
       "SI.SPR.PCAP                 0.281131\n",
       "IT.NET.BBND.P2              0.280120\n",
       "IC.FRM.BNKS.ZS              0.279406\n",
       "SL.TLF.0714.WK.TM           0.279321\n",
       "IC.EXP.DOCS                 0.277878\n",
       "SL.TLF.0714.WK.MA.TM        0.275697\n",
       "NE.GDI.FPRV.ZS              0.271920\n",
       "SH.PRV.SMOK.FE              0.269334\n",
       "FM.LBL.BMNY.ZG              0.268451\n",
       "FM.LBL.MQMY.ZG              0.268451\n",
       "per_si_allsi.cov_pop_tot    0.266202\n",
       "IC.IMP.DOCS                 0.265717\n",
       "IC.IMP.DURS                 0.261422\n",
       "NV.IND.TOTL.KD.ZG           0.253980\n",
       "IC.EXP.DURS                 0.253569\n",
       "IC.TAX.GIFT.ZS              0.251366\n",
       "IQ.CPA.FISP.XQ              0.248794\n",
       "IQ.WEF.PORT.XQ              0.244185\n",
       "NE.IMP.GNFS.KD.ZG           0.243592\n",
       "FS.AST.DOMS.GD.ZS           0.243008\n",
       "NE.CON.PRVT.KD.ZG           0.241823\n",
       "SH.MED.BEDS.ZS              0.238051\n",
       "Name: NextYearGDP, dtype: float64"
      ]
     },
     "execution_count": 12,
     "metadata": {},
     "output_type": "execute_result"
    }
   ],
   "source": [
    "indicators"
   ]
  },
  {
   "cell_type": "code",
   "execution_count": 13,
   "metadata": {},
   "outputs": [],
   "source": [
    "predictors,pre2010=io.indicators(ncorr)\n",
    "indicators=pd.DataFrame(indicators)\n",
    "indexs=indicators.index.values.tolist()\n",
    "predictors=np.nan_to_num(predictors)"
   ]
  },
  {
   "cell_type": "code",
   "execution_count": 15,
   "metadata": {},
   "outputs": [],
   "source": [
    "pre2010=pre2010.fillna(0)\n",
    "npre2010=pre2010[indexs].to_numpy()"
   ]
  },
  {
   "cell_type": "code",
   "execution_count": 16,
   "metadata": {},
   "outputs": [],
   "source": [
    "parser = argparse.ArgumentParser()"
   ]
  },
  {
   "cell_type": "code",
   "execution_count": 17,
   "metadata": {},
   "outputs": [
    {
     "data": {
      "text/plain": [
       "_StoreAction(option_strings=[], dest='task', nargs=None, const=None, default=None, type=None, choices=['train', 'predict'], help='Task to be performed', metavar=None)"
      ]
     },
     "execution_count": 17,
     "metadata": {},
     "output_type": "execute_result"
    }
   ],
   "source": [
    "parser.add_argument(\n",
    "    \"task\",\n",
    "    choices=[\"train\", \"predict\"],\n",
    "    help=\"Task to be performed\",\n",
    ")"
   ]
  },
  {
   "cell_type": "code",
   "execution_count": 18,
   "metadata": {},
   "outputs": [
    {
     "data": {
      "text/plain": [
       "ArgumentParser(prog='ipykernel_launcher.py', usage=None, description=None, formatter_class=<class 'argparse.HelpFormatter'>, conflict_handler='error', add_help=True)"
      ]
     },
     "execution_count": 18,
     "metadata": {},
     "output_type": "execute_result"
    }
   ],
   "source": [
    "parser"
   ]
  },
  {
   "cell_type": "code",
   "execution_count": null,
   "metadata": {},
   "outputs": [],
   "source": []
  }
 ],
 "metadata": {
  "kernelspec": {
   "display_name": "Python 3",
   "language": "python",
   "name": "python3"
  },
  "language_info": {
   "codemirror_mode": {
    "name": "ipython",
    "version": 3
   },
   "file_extension": ".py",
   "mimetype": "text/x-python",
   "name": "python",
   "nbconvert_exporter": "python",
   "pygments_lexer": "ipython3",
   "version": "3.8.3"
  }
 },
 "nbformat": 4,
 "nbformat_minor": 4
}
