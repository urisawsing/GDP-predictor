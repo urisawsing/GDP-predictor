{
 "cells": [
  {
   "cell_type": "code",
   "execution_count": 1,
   "metadata": {},
   "outputs": [],
   "source": [
    "import numpy as np\n",
    "import pandas as pd\n",
    "import sys\n",
    "sys.path.append(\"..\")\n",
    "import sqlite3\n",
    "import analysis as an\n",
    "import os\n",
    "\n",
    "from matplotlib import pyplot as plt\n",
    "from sklearn.model_selection import train_test_split\n",
    "from sklearn.linear_model import LinearRegression\n",
    "from sklearn.ensemble import GradientBoostingRegressor\n",
    "from sklearn.metrics import r2_score, mean_squared_error"
   ]
  },
  {
   "cell_type": "code",
   "execution_count": 2,
   "metadata": {},
   "outputs": [],
   "source": [
    "import models, analysis, utils"
   ]
  },
  {
   "cell_type": "code",
   "execution_count": 3,
   "metadata": {},
   "outputs": [],
   "source": [
    "from models import model_countries_together as mt"
   ]
  },
  {
   "cell_type": "code",
   "execution_count": null,
   "metadata": {},
   "outputs": [
    {
     "name": "stdout",
     "output_type": "stream",
     "text": [
      "running gradient boosting for all countries...\n",
      "Selecting the best indicators...\n",
      "\n",
      "Reading the SQL file...\n",
      "File read\n",
      "\n",
      "Getting country list...\n",
      "Done\n",
      "\n",
      "Do you want to use the selection of indicators predefined?\n"
     ]
    },
    {
     "name": "stdin",
     "output_type": "stream",
     "text": [
      "In the case you want type Yes, if not type No yes\n"
     ]
    },
    {
     "name": "stdout",
     "output_type": "stream",
     "text": [
      "Indicators selected\n",
      "\n",
      "Obtaining the data...\n",
      "\n",
      "Data obtained\n",
      "\n",
      "Predictors obtained\n",
      "\n",
      "Elapsed time preprocessing: 37.49234104156494 seconds\n",
      "Training the model...\n"
     ]
    }
   ],
   "source": [
    "mt.GBmodelTrain()"
   ]
  },
  {
   "cell_type": "code",
   "execution_count": 5,
   "metadata": {},
   "outputs": [
    {
     "name": "stdin",
     "output_type": "stream",
     "text": [
      "Write the name of the model for predicting, without the extension GBM.jlib aaaa\n"
     ]
    },
    {
     "name": "stdout",
     "output_type": "stream",
     "text": [
      "Selecting the best indicators...\n",
      "\n",
      "Reading the SQL file...\n"
     ]
    },
    {
     "ename": "KeyboardInterrupt",
     "evalue": "",
     "output_type": "error",
     "traceback": [
      "\u001b[1;31m---------------------------------------------------------------------------\u001b[0m",
      "\u001b[1;31mKeyboardInterrupt\u001b[0m                         Traceback (most recent call last)",
      "\u001b[1;32m<ipython-input-5-182334516d03>\u001b[0m in \u001b[0;36m<module>\u001b[1;34m\u001b[0m\n\u001b[1;32m----> 1\u001b[1;33m \u001b[0ma\u001b[0m\u001b[1;33m=\u001b[0m\u001b[0mmt\u001b[0m\u001b[1;33m.\u001b[0m\u001b[0mGBmodelPredict\u001b[0m\u001b[1;33m(\u001b[0m\u001b[1;33m)\u001b[0m\u001b[1;33m\u001b[0m\u001b[1;33m\u001b[0m\u001b[0m\n\u001b[0m",
      "\u001b[1;32m~\\Desktop\\final_project_skeleton\\gdp_growth_forecast\\models\\model_countries_together.py\u001b[0m in \u001b[0;36mGBmodelPredict\u001b[1;34m()\u001b[0m\n\u001b[0;32m     75\u001b[0m     \u001b[1;32mreturn\u001b[0m \u001b[0mprediction\u001b[0m\u001b[1;33m\u001b[0m\u001b[1;33m\u001b[0m\u001b[0m\n\u001b[0;32m     76\u001b[0m \u001b[1;33m\u001b[0m\u001b[0m\n\u001b[1;32m---> 77\u001b[1;33m \u001b[1;33m\u001b[0m\u001b[0m\n\u001b[0m\u001b[0;32m     78\u001b[0m \u001b[1;31m########################################################################################\u001b[0m\u001b[1;33m\u001b[0m\u001b[1;33m\u001b[0m\u001b[1;33m\u001b[0m\u001b[0m\n\u001b[0;32m     79\u001b[0m \u001b[1;31m#multilinear#\u001b[0m\u001b[1;33m\u001b[0m\u001b[1;33m\u001b[0m\u001b[1;33m\u001b[0m\u001b[0m\n",
      "\u001b[1;32m~\\Desktop\\final_project_skeleton\\gdp_growth_forecast\\models\\model_countries_together.py\u001b[0m in \u001b[0;36mdeclaration\u001b[1;34m(numind)\u001b[0m\n\u001b[0;32m     21\u001b[0m \u001b[1;33m\u001b[0m\u001b[0m\n\u001b[0;32m     22\u001b[0m \u001b[1;32mdef\u001b[0m \u001b[0mdeclaration\u001b[0m\u001b[1;33m(\u001b[0m\u001b[0mnumind\u001b[0m\u001b[1;33m=\u001b[0m\u001b[0mcn\u001b[0m\u001b[1;33m.\u001b[0m\u001b[0mNUM_PREDICTORS\u001b[0m\u001b[1;33m)\u001b[0m\u001b[1;33m:\u001b[0m\u001b[1;33m\u001b[0m\u001b[1;33m\u001b[0m\u001b[0m\n\u001b[1;32m---> 23\u001b[1;33m     \u001b[0mindicators\u001b[0m\u001b[1;33m=\u001b[0m\u001b[0msall\u001b[0m\u001b[1;33m.\u001b[0m\u001b[0mfselection\u001b[0m\u001b[1;33m(\u001b[0m\u001b[1;33m)\u001b[0m\u001b[1;33m\u001b[0m\u001b[1;33m\u001b[0m\u001b[0m\n\u001b[0m\u001b[0;32m     24\u001b[0m     \u001b[0mpredictors\u001b[0m\u001b[1;33m=\u001b[0m\u001b[0msall\u001b[0m\u001b[1;33m.\u001b[0m\u001b[0mindicators\u001b[0m\u001b[1;33m(\u001b[0m\u001b[1;33m)\u001b[0m\u001b[1;33m\u001b[0m\u001b[1;33m\u001b[0m\u001b[0m\n\u001b[0;32m     25\u001b[0m     \u001b[0mpredictors\u001b[0m\u001b[1;33m=\u001b[0m\u001b[0mpredictors\u001b[0m\u001b[1;33m.\u001b[0m\u001b[0mfillna\u001b[0m\u001b[1;33m(\u001b[0m\u001b[1;36m0\u001b[0m\u001b[1;33m)\u001b[0m\u001b[1;33m\u001b[0m\u001b[1;33m\u001b[0m\u001b[0m\n",
      "\u001b[1;32m~\\Desktop\\final_project_skeleton\\gdp_growth_forecast\\analysis\\selectorall.py\u001b[0m in \u001b[0;36mfselection\u001b[1;34m(answer)\u001b[0m\n\u001b[0;32m     11\u001b[0m \u001b[1;32mdef\u001b[0m \u001b[0mfselection\u001b[0m\u001b[1;33m(\u001b[0m\u001b[0manswer\u001b[0m\u001b[1;33m=\u001b[0m\u001b[1;32mFalse\u001b[0m\u001b[1;33m)\u001b[0m\u001b[1;33m:\u001b[0m\u001b[1;33m\u001b[0m\u001b[1;33m\u001b[0m\u001b[0m\n\u001b[0;32m     12\u001b[0m     \u001b[0mprint\u001b[0m\u001b[1;33m(\u001b[0m\u001b[1;34m\"Selecting the best indicators...\\n\"\u001b[0m\u001b[1;33m)\u001b[0m\u001b[1;33m\u001b[0m\u001b[1;33m\u001b[0m\u001b[0m\n\u001b[1;32m---> 13\u001b[1;33m     \u001b[0mdata\u001b[0m\u001b[1;33m=\u001b[0m\u001b[0mre\u001b[0m\u001b[1;33m.\u001b[0m\u001b[0mreadall\u001b[0m\u001b[1;33m(\u001b[0m\u001b[1;33m)\u001b[0m\u001b[1;33m\u001b[0m\u001b[1;33m\u001b[0m\u001b[0m\n\u001b[0m\u001b[0;32m     14\u001b[0m     \u001b[0mnum\u001b[0m\u001b[1;33m=\u001b[0m\u001b[0mclist\u001b[0m\u001b[1;33m.\u001b[0m\u001b[0mnumadapt\u001b[0m\u001b[1;33m(\u001b[0m\u001b[1;33m)\u001b[0m\u001b[1;33m\u001b[0m\u001b[1;33m\u001b[0m\u001b[0m\n\u001b[0;32m     15\u001b[0m     \u001b[0mcat\u001b[0m\u001b[1;33m=\u001b[0m\u001b[0mdata\u001b[0m\u001b[1;33m[\u001b[0m\u001b[1;34m'CountryCode'\u001b[0m\u001b[1;33m]\u001b[0m\u001b[1;33m.\u001b[0m\u001b[0mastype\u001b[0m\u001b[1;33m(\u001b[0m\u001b[1;34m'category'\u001b[0m\u001b[1;33m)\u001b[0m\u001b[1;33m\u001b[0m\u001b[1;33m\u001b[0m\u001b[0m\n",
      "\u001b[1;32m~\\Desktop\\final_project_skeleton\\gdp_growth_forecast\\analysis\\reader.py\u001b[0m in \u001b[0;36mreadall\u001b[1;34m()\u001b[0m\n\u001b[0;32m     12\u001b[0m     \u001b[0mdb\u001b[0m\u001b[1;33m=\u001b[0m\u001b[0msqlite3\u001b[0m\u001b[1;33m.\u001b[0m\u001b[0mconnect\u001b[0m\u001b[1;33m(\u001b[0m\u001b[0mcn\u001b[0m\u001b[1;33m.\u001b[0m\u001b[0mDATABASE_PATH\u001b[0m\u001b[1;33m)\u001b[0m\u001b[1;33m\u001b[0m\u001b[1;33m\u001b[0m\u001b[0m\n\u001b[0;32m     13\u001b[0m     \u001b[0mcur\u001b[0m \u001b[1;33m=\u001b[0m \u001b[0mdb\u001b[0m\u001b[1;33m.\u001b[0m\u001b[0mcursor\u001b[0m\u001b[1;33m(\u001b[0m\u001b[1;33m)\u001b[0m\u001b[1;33m\u001b[0m\u001b[1;33m\u001b[0m\u001b[0m\n\u001b[1;32m---> 14\u001b[1;33m     \u001b[0mdi\u001b[0m \u001b[1;33m=\u001b[0m \u001b[0mpd\u001b[0m\u001b[1;33m.\u001b[0m\u001b[0mread_sql_query\u001b[0m\u001b[1;33m(\u001b[0m\u001b[1;34m\"SELECT * from CountryIndicators\"\u001b[0m\u001b[1;33m,\u001b[0m \u001b[0mdb\u001b[0m\u001b[1;33m)\u001b[0m\u001b[1;33m\u001b[0m\u001b[1;33m\u001b[0m\u001b[0m\n\u001b[0m\u001b[0;32m     15\u001b[0m     \u001b[0mprint\u001b[0m\u001b[1;33m(\u001b[0m\u001b[1;34m\"File read\\n\"\u001b[0m\u001b[1;33m)\u001b[0m\u001b[1;33m\u001b[0m\u001b[1;33m\u001b[0m\u001b[0m\n\u001b[0;32m     16\u001b[0m     \u001b[1;32mreturn\u001b[0m \u001b[0mdi\u001b[0m\u001b[1;33m\u001b[0m\u001b[1;33m\u001b[0m\u001b[0m\n",
      "\u001b[1;32mc:\\users\\oriol\\appdata\\local\\programs\\python\\python38\\lib\\site-packages\\pandas\\io\\sql.py\u001b[0m in \u001b[0;36mread_sql_query\u001b[1;34m(sql, con, index_col, coerce_float, params, parse_dates, chunksize)\u001b[0m\n\u001b[0;32m    375\u001b[0m     \"\"\"\n\u001b[0;32m    376\u001b[0m     \u001b[0mpandas_sql\u001b[0m \u001b[1;33m=\u001b[0m \u001b[0mpandasSQL_builder\u001b[0m\u001b[1;33m(\u001b[0m\u001b[0mcon\u001b[0m\u001b[1;33m)\u001b[0m\u001b[1;33m\u001b[0m\u001b[1;33m\u001b[0m\u001b[0m\n\u001b[1;32m--> 377\u001b[1;33m     return pandas_sql.read_query(\n\u001b[0m\u001b[0;32m    378\u001b[0m         \u001b[0msql\u001b[0m\u001b[1;33m,\u001b[0m\u001b[1;33m\u001b[0m\u001b[1;33m\u001b[0m\u001b[0m\n\u001b[0;32m    379\u001b[0m         \u001b[0mindex_col\u001b[0m\u001b[1;33m=\u001b[0m\u001b[0mindex_col\u001b[0m\u001b[1;33m,\u001b[0m\u001b[1;33m\u001b[0m\u001b[1;33m\u001b[0m\u001b[0m\n",
      "\u001b[1;32mc:\\users\\oriol\\appdata\\local\\programs\\python\\python38\\lib\\site-packages\\pandas\\io\\sql.py\u001b[0m in \u001b[0;36mread_query\u001b[1;34m(self, sql, index_col, coerce_float, params, parse_dates, chunksize)\u001b[0m\n\u001b[0;32m   1738\u001b[0m             )\n\u001b[0;32m   1739\u001b[0m         \u001b[1;32melse\u001b[0m\u001b[1;33m:\u001b[0m\u001b[1;33m\u001b[0m\u001b[1;33m\u001b[0m\u001b[0m\n\u001b[1;32m-> 1740\u001b[1;33m             \u001b[0mdata\u001b[0m \u001b[1;33m=\u001b[0m \u001b[0mself\u001b[0m\u001b[1;33m.\u001b[0m\u001b[0m_fetchall_as_list\u001b[0m\u001b[1;33m(\u001b[0m\u001b[0mcursor\u001b[0m\u001b[1;33m)\u001b[0m\u001b[1;33m\u001b[0m\u001b[1;33m\u001b[0m\u001b[0m\n\u001b[0m\u001b[0;32m   1741\u001b[0m             \u001b[0mcursor\u001b[0m\u001b[1;33m.\u001b[0m\u001b[0mclose\u001b[0m\u001b[1;33m(\u001b[0m\u001b[1;33m)\u001b[0m\u001b[1;33m\u001b[0m\u001b[1;33m\u001b[0m\u001b[0m\n\u001b[0;32m   1742\u001b[0m \u001b[1;33m\u001b[0m\u001b[0m\n",
      "\u001b[1;32mc:\\users\\oriol\\appdata\\local\\programs\\python\\python38\\lib\\site-packages\\pandas\\io\\sql.py\u001b[0m in \u001b[0;36m_fetchall_as_list\u001b[1;34m(self, cur)\u001b[0m\n\u001b[0;32m   1751\u001b[0m \u001b[1;33m\u001b[0m\u001b[0m\n\u001b[0;32m   1752\u001b[0m     \u001b[1;32mdef\u001b[0m \u001b[0m_fetchall_as_list\u001b[0m\u001b[1;33m(\u001b[0m\u001b[0mself\u001b[0m\u001b[1;33m,\u001b[0m \u001b[0mcur\u001b[0m\u001b[1;33m)\u001b[0m\u001b[1;33m:\u001b[0m\u001b[1;33m\u001b[0m\u001b[1;33m\u001b[0m\u001b[0m\n\u001b[1;32m-> 1753\u001b[1;33m         \u001b[0mresult\u001b[0m \u001b[1;33m=\u001b[0m \u001b[0mcur\u001b[0m\u001b[1;33m.\u001b[0m\u001b[0mfetchall\u001b[0m\u001b[1;33m(\u001b[0m\u001b[1;33m)\u001b[0m\u001b[1;33m\u001b[0m\u001b[1;33m\u001b[0m\u001b[0m\n\u001b[0m\u001b[0;32m   1754\u001b[0m         \u001b[1;32mif\u001b[0m \u001b[1;32mnot\u001b[0m \u001b[0misinstance\u001b[0m\u001b[1;33m(\u001b[0m\u001b[0mresult\u001b[0m\u001b[1;33m,\u001b[0m \u001b[0mlist\u001b[0m\u001b[1;33m)\u001b[0m\u001b[1;33m:\u001b[0m\u001b[1;33m\u001b[0m\u001b[1;33m\u001b[0m\u001b[0m\n\u001b[0;32m   1755\u001b[0m             \u001b[0mresult\u001b[0m \u001b[1;33m=\u001b[0m \u001b[0mlist\u001b[0m\u001b[1;33m(\u001b[0m\u001b[0mresult\u001b[0m\u001b[1;33m)\u001b[0m\u001b[1;33m\u001b[0m\u001b[1;33m\u001b[0m\u001b[0m\n",
      "\u001b[1;31mKeyboardInterrupt\u001b[0m: "
     ]
    }
   ],
   "source": [
    "a=mt.GBmodelPredict()"
   ]
  },
  {
   "cell_type": "code",
   "execution_count": 4,
   "metadata": {
    "collapsed": true,
    "jupyter": {
     "outputs_hidden": true
    }
   },
   "outputs": [
    {
     "name": "stdout",
     "output_type": "stream",
     "text": [
      "Do you want to use the selection of indicators predefined?\n"
     ]
    },
    {
     "name": "stdin",
     "output_type": "stream",
     "text": [
      "In the case you want type Yes, if not type No yes\n"
     ]
    },
    {
     "name": "stdout",
     "output_type": "stream",
     "text": [
      "IndicatorCode     AG.AGR.TRAC.NO  AG.CON.FERT.PT.ZS  AG.CON.FERT.ZS  \\\n",
      "CountryCode Year                                                      \n",
      "0           1960             NaN                NaN             NaN   \n",
      "            1961             NaN                NaN             NaN   \n",
      "            1962             NaN                NaN             NaN   \n",
      "            1963             NaN                NaN             NaN   \n",
      "            1964             NaN                NaN             NaN   \n",
      "...                          ...                ...             ...   \n",
      "246         2006             NaN         210.442742       32.356341   \n",
      "            2007             NaN         171.109177       27.035250   \n",
      "            2008             NaN         147.903481       21.994118   \n",
      "            2009             NaN         186.693038       28.778049   \n",
      "            2010             NaN         215.715190       34.083000   \n",
      "\n",
      "IndicatorCode     AG.LND.AGRI.K2  AG.LND.AGRI.ZS  AG.LND.ARBL.HA  \\\n",
      "CountryCode Year                                                   \n",
      "0           1960             NaN             NaN             NaN   \n",
      "            1961            20.0       11.111111          2000.0   \n",
      "            1962            20.0       11.111111          2000.0   \n",
      "            1963            20.0       11.111111          2000.0   \n",
      "            1964            20.0       11.111111          2000.0   \n",
      "...                          ...             ...             ...   \n",
      "246         2006        163000.0       42.135195       4100000.0   \n",
      "            2007        162000.0       41.876696       4000000.0   \n",
      "            2008        164500.0       42.522942       4250000.0   \n",
      "            2009        163000.0       42.135195       4100000.0   \n",
      "            2010        162000.0       41.876696       4000000.0   \n",
      "\n",
      "IndicatorCode     AG.LND.ARBL.HA.PC  AG.LND.ARBL.ZS  AG.LND.CREL.HA  \\\n",
      "CountryCode Year                                                      \n",
      "0           1960                NaN             NaN             NaN   \n",
      "            1961           0.036078       11.111111             NaN   \n",
      "            1962           0.035571       11.111111             NaN   \n",
      "            1963           0.035275       11.111111             NaN   \n",
      "            1964           0.035070       11.111111             NaN   \n",
      "...                             ...             ...             ...   \n",
      "246         2006           0.312311       10.598423       2289312.0   \n",
      "            2007           0.300802       10.339925       1949453.0   \n",
      "            2008           0.314921       10.986170       2235440.0   \n",
      "            2009           0.298812       10.598423       2080405.0   \n",
      "            2010           0.286248       10.339925       1891766.0   \n",
      "\n",
      "IndicatorCode     AG.LND.CROP.ZS  ...  per_lm_alllm.ben_q1_tot  \\\n",
      "CountryCode Year                  ...                            \n",
      "0           1960             NaN  ...                      NaN   \n",
      "            1961             NaN  ...                      NaN   \n",
      "            1962             NaN  ...                      NaN   \n",
      "            1963             NaN  ...                      NaN   \n",
      "            1964             NaN  ...                      NaN   \n",
      "...                          ...  ...                      ...   \n",
      "246         2006        0.258498  ...                      NaN   \n",
      "            2007        0.258498  ...                      NaN   \n",
      "            2008        0.258498  ...                      NaN   \n",
      "            2009        0.258498  ...                      NaN   \n",
      "            2010        0.258498  ...                      NaN   \n",
      "\n",
      "IndicatorCode     per_lm_alllm.cov_pop_tot  per_sa_allsa.adq_pop_tot  \\\n",
      "CountryCode Year                                                       \n",
      "0           1960                       NaN                       NaN   \n",
      "            1961                       NaN                       NaN   \n",
      "            1962                       NaN                       NaN   \n",
      "            1963                       NaN                       NaN   \n",
      "            1964                       NaN                       NaN   \n",
      "...                                    ...                       ...   \n",
      "246         2006                       NaN                       NaN   \n",
      "            2007                       NaN                       NaN   \n",
      "            2008                       NaN                       NaN   \n",
      "            2009                       NaN                       NaN   \n",
      "            2010                       NaN                       NaN   \n",
      "\n",
      "IndicatorCode     per_sa_allsa.ben_q1_tot  per_sa_allsa.cov_pop_tot  \\\n",
      "CountryCode Year                                                      \n",
      "0           1960                      NaN                       NaN   \n",
      "            1961                      NaN                       NaN   \n",
      "            1962                      NaN                       NaN   \n",
      "            1963                      NaN                       NaN   \n",
      "            1964                      NaN                       NaN   \n",
      "...                                   ...                       ...   \n",
      "246         2006                      NaN                       NaN   \n",
      "            2007                      NaN                       NaN   \n",
      "            2008                      NaN                       NaN   \n",
      "            2009                      NaN                       NaN   \n",
      "            2010                      NaN                       NaN   \n",
      "\n",
      "IndicatorCode     per_si_allsi.adq_pop_tot  per_si_allsi.ben_q1_tot  \\\n",
      "CountryCode Year                                                      \n",
      "0           1960                       NaN                      NaN   \n",
      "            1961                       NaN                      NaN   \n",
      "            1962                       NaN                      NaN   \n",
      "            1963                       NaN                      NaN   \n",
      "            1964                       NaN                      NaN   \n",
      "...                                    ...                      ...   \n",
      "246         2006                       NaN                      NaN   \n",
      "            2007                       NaN                      NaN   \n",
      "            2008                       NaN                      NaN   \n",
      "            2009                       NaN                      NaN   \n",
      "            2010                       NaN                      NaN   \n",
      "\n",
      "IndicatorCode     per_si_allsi.cov_pop_tot  COUNTRYENC  NextYearGDP  \n",
      "CountryCode Year                                                     \n",
      "0           1960                       NaN           0          NaN  \n",
      "            1961                       NaN           0          NaN  \n",
      "            1962                       NaN           0          NaN  \n",
      "            1963                       NaN           0          NaN  \n",
      "            1964                       NaN           0          NaN  \n",
      "...                                    ...         ...          ...  \n",
      "246         2006                       NaN         246    -3.653327  \n",
      "            2007                       NaN         246   -17.668947  \n",
      "            2008                       NaN         246     5.984391  \n",
      "            2009                       NaN         246    11.375921  \n",
      "            2010                       NaN         246          NaN  \n",
      "\n",
      "[12597 rows x 1330 columns]\n",
      "[769, 64, 1265, 1188, 1205, 90, 375, 764, 1217, 366, 712, 757, 768, 756, 777, 949, 343, 1290, 621, 775, 650, 753, 695, 778, 1190, 776, 702, 71, 4, 181, 706, 767, 666, 1293, 1274, 377, 1231, 723, 727, 373, 6, 942, 700, 401, 924, 770, 685, 19, 847, 726]\n",
      "IndicatorCode     NY.GDP.MKTP.KD.ZG  BX.KLT.DINV.WD.GD.ZS  TM.VAL.MRCH.CD.WT  \\\n",
      "CountryCode Year                                                               \n",
      "0           1960                NaN                   NaN                NaN   \n",
      "            1961                NaN                   NaN                NaN   \n",
      "            1962                NaN                   NaN                NaN   \n",
      "            1963                NaN                   NaN                NaN   \n",
      "            1964                NaN                   NaN                NaN   \n",
      "...                             ...                   ...                ...   \n",
      "246         2006          -3.461495              0.734768       2.300000e+09   \n",
      "            2007          -3.653327              1.301978       2.550000e+09   \n",
      "            2008         -17.668947              1.168557       2.950000e+09   \n",
      "            2009           5.984391              1.287226       2.900000e+09   \n",
      "            2010          11.375921              1.760743       3.800000e+09   \n",
      "\n",
      "IndicatorCode     SP.DYN.IMRT.IN  SP.POP.GROW  DC.DAC.GBRL.CD  \\\n",
      "CountryCode Year                                                \n",
      "0           1960             NaN     3.134888             NaN   \n",
      "            1961             NaN     2.238266             NaN   \n",
      "            1962             NaN     1.416812             NaN   \n",
      "            1963             NaN     0.834202             NaN   \n",
      "            1964             NaN     0.583861             NaN   \n",
      "...                          ...          ...             ...   \n",
      "246         2006            60.3     1.099291      69870000.0   \n",
      "            2007            59.9     1.285552      94100000.0   \n",
      "            2008            58.9     1.475502      89240000.0   \n",
      "            2009            57.7     1.657381     109860000.0   \n",
      "            2010            55.8     1.826380     108010000.0   \n",
      "\n",
      "IndicatorCode     EN.ATM.CO2E.LF.KT  NY.GDP.FRST.RT.ZS  SP.URB.GROW  \\\n",
      "CountryCode Year                                                      \n",
      "0           1960                NaN                NaN     3.106802   \n",
      "            1961                NaN                NaN     2.206183   \n",
      "            1962                NaN                NaN     1.386975   \n",
      "            1963                NaN                NaN     0.802881   \n",
      "            1964                NaN                NaN     0.554748   \n",
      "...                             ...                ...          ...   \n",
      "246         2006           1881.171           4.537797     0.558408   \n",
      "            2007           1848.168           7.046260     0.744674   \n",
      "            2008           1587.811           9.610993     0.931690   \n",
      "            2009           1642.816           5.496162     1.113585   \n",
      "            2010           1778.495           4.187576     1.279630   \n",
      "\n",
      "IndicatorCode     EG.USE.COMM.GD.PP.KD  ...  AG.LND.ARBL.HA.PC  SH.DTH.IMRT  \\\n",
      "CountryCode Year                        ...                                   \n",
      "0           1960                   NaN  ...                NaN          NaN   \n",
      "            1961                   NaN  ...           0.036078          NaN   \n",
      "            1962                   NaN  ...           0.035571          NaN   \n",
      "            1963                   NaN  ...           0.035275          NaN   \n",
      "            1964                   NaN  ...           0.035070          NaN   \n",
      "...                                ...  ...                ...          ...   \n",
      "246         2006            472.047454  ...           0.312311      26769.0   \n",
      "            2007            477.082343  ...           0.300802      27361.0   \n",
      "            2008            534.409964  ...           0.314921      27730.0   \n",
      "            2009            510.485221  ...           0.298812      28013.0   \n",
      "            2010            469.119232  ...           0.286248      27907.0   \n",
      "\n",
      "IndicatorCode     NV.AGR.TOTL.KD.ZG  EN.CO2.BLDG.ZS  SE.XPD.SECO.ZS  \\\n",
      "CountryCode Year                                                      \n",
      "0           1960                NaN             NaN             NaN   \n",
      "            1961                NaN             NaN             NaN   \n",
      "            1962                NaN             NaN             NaN   \n",
      "            1963                NaN             NaN             NaN   \n",
      "            1964                NaN             NaN             NaN   \n",
      "...                             ...             ...             ...   \n",
      "246         2006          -3.999999        6.878307             NaN   \n",
      "            2007          -7.000000        8.130940             NaN   \n",
      "            2008         -39.300001        9.387755             NaN   \n",
      "            2009          22.008941        9.825871             NaN   \n",
      "            2010           7.220312        9.839817         25.6049   \n",
      "\n",
      "IndicatorCode     NY.GDP.MKTP.KN  NE.GDI.TOTL.ZS  AG.PRD.FOOD.XD  \\\n",
      "CountryCode Year                                                   \n",
      "0           1960             NaN             NaN             NaN   \n",
      "            1961             NaN             NaN             NaN   \n",
      "            1962             NaN             NaN             NaN   \n",
      "            1963             NaN             NaN             NaN   \n",
      "            1964             NaN             NaN             NaN   \n",
      "...                          ...             ...             ...   \n",
      "246         2006    9.702693e+09        1.571161          101.75   \n",
      "            2007    9.348222e+09        7.109753           96.64   \n",
      "            2008    7.696489e+09        5.127906           88.79   \n",
      "            2009    8.157077e+09       15.104423           89.44   \n",
      "            2010    9.085020e+09       23.979764           96.05   \n",
      "\n",
      "IndicatorCode     SE.PRM.ENRL.TC.ZS  NY.ADJ.AEDU.CD  \n",
      "CountryCode Year                                     \n",
      "0           1960                NaN             NaN  \n",
      "            1961                NaN             NaN  \n",
      "            1962                NaN             NaN  \n",
      "            1963                NaN             NaN  \n",
      "            1964                NaN             NaN  \n",
      "...                             ...             ...  \n",
      "246         2006                NaN    6.822969e+08  \n",
      "            2007                NaN    5.211855e+08  \n",
      "            2008                NaN    3.117765e+08  \n",
      "            2009                NaN    4.415652e+08  \n",
      "            2010                NaN    2.223336e+08  \n",
      "\n",
      "[12597 rows x 50 columns]\n"
     ]
    }
   ],
   "source": [
    "a=analysis.selectorall.indicators()"
   ]
  }
 ],
 "metadata": {
  "kernelspec": {
   "display_name": "Python 3",
   "language": "python",
   "name": "python3"
  },
  "language_info": {
   "codemirror_mode": {
    "name": "ipython",
    "version": 3
   },
   "file_extension": ".py",
   "mimetype": "text/x-python",
   "name": "python",
   "nbconvert_exporter": "python",
   "pygments_lexer": "ipython3",
   "version": "3.8.6"
  }
 },
 "nbformat": 4,
 "nbformat_minor": 4
}
